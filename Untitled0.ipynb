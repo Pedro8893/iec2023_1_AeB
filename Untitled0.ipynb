{
  "nbformat": 4,
  "nbformat_minor": 0,
  "metadata": {
    "colab": {
      "provenance": [],
      "authorship_tag": "ABX9TyMjt69z7HA8KNr5ifeYbYDU",
      "include_colab_link": true
    },
    "kernelspec": {
      "name": "python3",
      "display_name": "Python 3"
    },
    "language_info": {
      "name": "python"
    }
  },
  "cells": [
    {
      "cell_type": "markdown",
      "metadata": {
        "id": "view-in-github",
        "colab_type": "text"
      },
      "source": [
        "<a href=\"https://colab.research.google.com/github/Pedro8893/iec2023_1_AeB/blob/main/Untitled0.ipynb\" target=\"_parent\"><img src=\"https://colab.research.google.com/assets/colab-badge.svg\" alt=\"Open In Colab\"/></a>"
      ]
    },
    {
      "cell_type": "code",
      "execution_count": null,
      "metadata": {
        "id": "XY_kg6NPNGbu"
      },
      "outputs": [],
      "source": []
    },
    {
      "cell_type": "markdown",
      "source": [
        "# Introdução a Engenharia de Computação"
      ],
      "metadata": {
        "id": "UnL444WRNJWE"
      }
    },
    {
      "cell_type": "code",
      "source": [
        "from platform import python_version\n",
        "print(f'A versão em uso é {(python_version ())}.')\n"
      ],
      "metadata": {
        "colab": {
          "base_uri": "https://localhost:8080/"
        },
        "id": "q2ZIcxW7NRZt",
        "outputId": "3f6678cf-310a-4d6f-d9ec-b85f7952b52a"
      },
      "execution_count": null,
      "outputs": [
        {
          "output_type": "stream",
          "name": "stdout",
          "text": [
            "A versão em uso é 3.10.12.\n"
          ]
        }
      ]
    },
    {
      "cell_type": "code",
      "source": [
        "#Verificar se o Python está funcionando\n",
        "print('Bye Bye World')\n"
      ],
      "metadata": {
        "colab": {
          "base_uri": "https://localhost:8080/"
        },
        "id": "dl2Iz44aNZGS",
        "outputId": "419acb03-fcbf-4d28-fc97-21cf478aaafc"
      },
      "execution_count": null,
      "outputs": [
        {
          "output_type": "stream",
          "name": "stdout",
          "text": [
            "Bye Bye World\n"
          ]
        }
      ]
    },
    {
      "cell_type": "markdown",
      "source": [
        "# Operador Aritmético"
      ],
      "metadata": {
        "id": "WSV1g4RFNuHX"
      }
    },
    {
      "cell_type": "code",
      "source": [
        "# Adição\n",
        "1+1"
      ],
      "metadata": {
        "colab": {
          "base_uri": "https://localhost:8080/"
        },
        "id": "oiCHv5RzNzxR",
        "outputId": "e8292056-eb04-4c27-d19c-56cc6773b165"
      },
      "execution_count": null,
      "outputs": [
        {
          "output_type": "execute_result",
          "data": {
            "text/plain": [
              "2"
            ]
          },
          "metadata": {},
          "execution_count": 3
        }
      ]
    },
    {
      "cell_type": "code",
      "source": [
        "# Subtração\n",
        "2-1"
      ],
      "metadata": {
        "colab": {
          "base_uri": "https://localhost:8080/"
        },
        "id": "ocFliGMwN0C1",
        "outputId": "fd20a74b-5e2a-42c9-f507-28708a08f6fe"
      },
      "execution_count": null,
      "outputs": [
        {
          "output_type": "execute_result",
          "data": {
            "text/plain": [
              "1"
            ]
          },
          "metadata": {},
          "execution_count": 4
        }
      ]
    },
    {
      "cell_type": "code",
      "source": [
        "# Multiplicação\n",
        "2*3"
      ],
      "metadata": {
        "colab": {
          "base_uri": "https://localhost:8080/"
        },
        "id": "rqS8DKZlN02B",
        "outputId": "45ce3a00-0f7b-498b-fed7-28bd8001c200"
      },
      "execution_count": null,
      "outputs": [
        {
          "output_type": "execute_result",
          "data": {
            "text/plain": [
              "6"
            ]
          },
          "metadata": {},
          "execution_count": 5
        }
      ]
    },
    {
      "cell_type": "code",
      "source": [
        "# Divisão\n",
        "3/3"
      ],
      "metadata": {
        "colab": {
          "base_uri": "https://localhost:8080/"
        },
        "id": "WIQsH8BHN0Tw",
        "outputId": "7cd871e3-3015-4dab-c1f1-7c952628babd"
      },
      "execution_count": null,
      "outputs": [
        {
          "output_type": "execute_result",
          "data": {
            "text/plain": [
              "1.0"
            ]
          },
          "metadata": {},
          "execution_count": 6
        }
      ]
    },
    {
      "cell_type": "code",
      "source": [
        "# Potência\n",
        "4**2"
      ],
      "metadata": {
        "colab": {
          "base_uri": "https://localhost:8080/"
        },
        "id": "uORBmd00N0fi",
        "outputId": "eec74111-a6d7-4913-c073-ca152c923ac5"
      },
      "execution_count": null,
      "outputs": [
        {
          "output_type": "execute_result",
          "data": {
            "text/plain": [
              "16"
            ]
          },
          "metadata": {},
          "execution_count": 7
        }
      ]
    },
    {
      "cell_type": "code",
      "source": [
        "# Modulo\n",
        "10 % 3"
      ],
      "metadata": {
        "colab": {
          "base_uri": "https://localhost:8080/"
        },
        "id": "OUhSCiujN0qP",
        "outputId": "7f30884b-bbe1-48f4-fb7a-cacc98bcaa0c"
      },
      "execution_count": null,
      "outputs": [
        {
          "output_type": "execute_result",
          "data": {
            "text/plain": [
              "1"
            ]
          },
          "metadata": {},
          "execution_count": 8
        }
      ]
    },
    {
      "cell_type": "markdown",
      "source": [
        "# Tipos de dados"
      ],
      "metadata": {
        "id": "eKVbARD5ObP9"
      }
    },
    {
      "cell_type": "markdown",
      "source": [],
      "metadata": {
        "id": "C0Lp7ZLXOTay"
      }
    },
    {
      "cell_type": "code",
      "source": [
        "# Qual o tipo do (?) -> Inteiro\n",
        "type(5)\n"
      ],
      "metadata": {
        "colab": {
          "base_uri": "https://localhost:8080/"
        },
        "id": "-q7712UtOe-x",
        "outputId": "4e7b6750-56d2-4edb-8d7f-aa4605d3d602"
      },
      "execution_count": null,
      "outputs": [
        {
          "output_type": "execute_result",
          "data": {
            "text/plain": [
              "int"
            ]
          },
          "metadata": {},
          "execution_count": 9
        }
      ]
    },
    {
      "cell_type": "code",
      "source": [
        "# Qual o tipo do (?) -> float - Decimal\n",
        "type(5.0)\n"
      ],
      "metadata": {
        "colab": {
          "base_uri": "https://localhost:8080/"
        },
        "id": "aoSeghjrOfOd",
        "outputId": "63b45223-fa85-4c49-8397-b8c67b9872e7"
      },
      "execution_count": null,
      "outputs": [
        {
          "output_type": "execute_result",
          "data": {
            "text/plain": [
              "float"
            ]
          },
          "metadata": {},
          "execution_count": 10
        }
      ]
    },
    {
      "cell_type": "code",
      "source": [
        "# Qual o tipo (?) -> String\n",
        "a = 'Estudando Python!'\n"
      ],
      "metadata": {
        "id": "C8jB81WjOfbp"
      },
      "execution_count": null,
      "outputs": []
    },
    {
      "cell_type": "markdown",
      "source": [
        "# Condicional"
      ],
      "metadata": {
        "id": "I5SIfZI5O7tP"
      }
    },
    {
      "cell_type": "code",
      "source": [
        "# Condicional if (Se\n",
        "if 5>2:\n",
        "    print (\"A sentença é verdadeira!\")"
      ],
      "metadata": {
        "colab": {
          "base_uri": "https://localhost:8080/"
        },
        "id": "Y3uIwsylO_nt",
        "outputId": "1d32d3f3-4ca4-49e3-c6e9-7e198e85d091"
      },
      "execution_count": null,
      "outputs": [
        {
          "output_type": "stream",
          "name": "stdout",
          "text": [
            "A sentença é verdadeira!\n"
          ]
        }
      ]
    },
    {
      "cell_type": "code",
      "source": [
        "# Condional if...else com variável\n",
        "dia = \"Quarta-feira\"\n",
        "if dia == \"Sexta Feira\":\n",
        "  print (\"Hoje fará sol!\")\n",
        "else:\n",
        "  print(\"Hoje vai chover!\")\n",
        "type(dia)"
      ],
      "metadata": {
        "colab": {
          "base_uri": "https://localhost:8080/"
        },
        "id": "SLQGa6k_PHt4",
        "outputId": "338bdd53-9033-4a81-f9e4-8f1a720f739d"
      },
      "execution_count": null,
      "outputs": [
        {
          "output_type": "stream",
          "name": "stdout",
          "text": [
            "Hoje vai chover!\n"
          ]
        },
        {
          "output_type": "execute_result",
          "data": {
            "text/plain": [
              "str"
            ]
          },
          "metadata": {},
          "execution_count": 15
        }
      ]
    },
    {
      "cell_type": "markdown",
      "source": [
        "# Lendo arquivos (.txt)"
      ],
      "metadata": {
        "id": "iNk_HQhaRGT5"
      }
    },
    {
      "cell_type": "code",
      "source": [
        "# Abrindo arquivo para a leitura\n",
        "a1 = open (\"/content/drive/MyDrive/Teste 1.txt\", \"r\")"
      ],
      "metadata": {
        "id": "NyHfmLW5RLRD"
      },
      "execution_count": null,
      "outputs": []
    },
    {
      "cell_type": "code",
      "source": [
        "# Lendo arquivo\n",
        "print(a1.read())"
      ],
      "metadata": {
        "colab": {
          "base_uri": "https://localhost:8080/"
        },
        "id": "24Jk6SdkRcSR",
        "outputId": "37d2d278-b42f-4b98-c148-bf8c34d81202"
      },
      "execution_count": null,
      "outputs": [
        {
          "output_type": "stream",
          "name": "stdout",
          "text": [
            "Mensagem teste\n"
          ]
        }
      ]
    },
    {
      "cell_type": "markdown",
      "source": [
        "# Gravando arquivos (.txt)"
      ],
      "metadata": {
        "id": "R7cpOCpZR1H_"
      }
    },
    {
      "cell_type": "code",
      "source": [
        "# Abrindo arquivo para a gravação\n",
        "a2 = open (\"/content/drive/MyDrive/Teste 2.txt\", \"w\")"
      ],
      "metadata": {
        "id": "7PwUzXd2R5zF"
      },
      "execution_count": null,
      "outputs": []
    },
    {
      "cell_type": "code",
      "source": [
        "# gravando no arquivo\n",
        "a2.write(\"arraial do engenho!\")"
      ],
      "metadata": {
        "colab": {
          "base_uri": "https://localhost:8080/"
        },
        "id": "Il99IrEMSOW9",
        "outputId": "56611b7a-229c-4aa9-ac85-38d4006e3ccd"
      },
      "execution_count": null,
      "outputs": [
        {
          "output_type": "execute_result",
          "data": {
            "text/plain": [
              "19"
            ]
          },
          "metadata": {},
          "execution_count": 22
        }
      ]
    },
    {
      "cell_type": "code",
      "source": [
        "# Abrir o arquivo para a leitura\n",
        "a2 = open (\"/content/drive/MyDrive/Teste 2.txt\", \"r\")"
      ],
      "metadata": {
        "id": "GLKX-AszSewh"
      },
      "execution_count": null,
      "outputs": []
    },
    {
      "cell_type": "code",
      "source": [
        "# Imprimindo arquivo\n",
        "print(a2.read())"
      ],
      "metadata": {
        "id": "SJxhYLMjSoET",
        "outputId": "81f49851-dc1c-4afd-b7db-8ce5dbd39006",
        "colab": {
          "base_uri": "https://localhost:8080/"
        }
      },
      "execution_count": null,
      "outputs": [
        {
          "output_type": "stream",
          "name": "stdout",
          "text": [
            "arraial do engenho!\n"
          ]
        }
      ]
    }
  ]
}